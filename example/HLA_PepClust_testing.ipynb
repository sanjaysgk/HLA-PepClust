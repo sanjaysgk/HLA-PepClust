{
  "nbformat": 4,
  "nbformat_minor": 0,
  "metadata": {
    "colab": {
      "provenance": []
    },
    "kernelspec": {
      "name": "python3",
      "display_name": "Python 3"
    },
    "language_info": {
      "name": "python"
    }
  },
  "cells": [
    {
      "cell_type": "markdown",
      "source": [
        "## Git main repo pull"
      ],
      "metadata": {
        "id": "4krAo4YIKObA"
      }
    },
    {
      "cell_type": "code",
      "execution_count": 1,
      "metadata": {
        "colab": {
          "base_uri": "https://localhost:8080/"
        },
        "id": "XhHg-ZccBdrD",
        "outputId": "9782e574-01fc-4d92-fbc1-fd76a9092dcf"
      },
      "outputs": [
        {
          "output_type": "stream",
          "name": "stdout",
          "text": [
            "Cloning into 'HLA-PepClust'...\n",
            "remote: Enumerating objects: 7479, done.\u001b[K\n",
            "remote: Counting objects: 100% (113/113), done.\u001b[K\n",
            "remote: Compressing objects: 100% (43/43), done.\u001b[K\n",
            "remote: Total 7479 (delta 85), reused 84 (delta 70), pack-reused 7366 (from 1)\u001b[K\n",
            "Receiving objects: 100% (7479/7479), 127.37 MiB | 11.70 MiB/s, done.\n",
            "Resolving deltas: 100% (1231/1231), done.\n",
            "Updating files: 100% (1111/1111), done.\n"
          ]
        }
      ],
      "source": [
        "!git clone https://github.com/Sanpme66/HLA-PepClust.git"
      ]
    },
    {
      "cell_type": "markdown",
      "source": [
        "## Create python env and install HLA-PepClust"
      ],
      "metadata": {
        "id": "aMkwc7XeKZIG"
      }
    },
    {
      "cell_type": "code",
      "source": [
        "!pip install virtualenv\n",
        "!virtualenv hlaclust_env\n",
        "!source hlaclust_env/bin/activate\n",
        "%env PATH=/content/hlaclust_env/bin:/usr/local/bin:/usr/bin:/bin:$PATH\n",
        "!which python"
      ],
      "metadata": {
        "colab": {
          "base_uri": "https://localhost:8080/"
        },
        "id": "jVUloVCPBkrj",
        "outputId": "ddb3a9b7-9d30-46a4-9aee-cecf5a6cfe85"
      },
      "execution_count": 2,
      "outputs": [
        {
          "output_type": "stream",
          "name": "stdout",
          "text": [
            "Collecting virtualenv\n",
            "  Downloading virtualenv-20.29.3-py3-none-any.whl.metadata (4.5 kB)\n",
            "Collecting distlib<1,>=0.3.7 (from virtualenv)\n",
            "  Downloading distlib-0.3.9-py2.py3-none-any.whl.metadata (5.2 kB)\n",
            "Requirement already satisfied: filelock<4,>=3.12.2 in /usr/local/lib/python3.11/dist-packages (from virtualenv) (3.17.0)\n",
            "Requirement already satisfied: platformdirs<5,>=3.9.1 in /usr/local/lib/python3.11/dist-packages (from virtualenv) (4.3.6)\n",
            "Downloading virtualenv-20.29.3-py3-none-any.whl (4.3 MB)\n",
            "\u001b[2K   \u001b[90m━━━━━━━━━━━━━━━━━━━━━━━━━━━━━━━━━━━━━━━━\u001b[0m \u001b[32m4.3/4.3 MB\u001b[0m \u001b[31m29.8 MB/s\u001b[0m eta \u001b[36m0:00:00\u001b[0m\n",
            "\u001b[?25hDownloading distlib-0.3.9-py2.py3-none-any.whl (468 kB)\n",
            "\u001b[2K   \u001b[90m━━━━━━━━━━━━━━━━━━━━━━━━━━━━━━━━━━━━━━━━\u001b[0m \u001b[32m469.0/469.0 kB\u001b[0m \u001b[31m21.1 MB/s\u001b[0m eta \u001b[36m0:00:00\u001b[0m\n",
            "\u001b[?25hInstalling collected packages: distlib, virtualenv\n",
            "Successfully installed distlib-0.3.9 virtualenv-20.29.3\n",
            "created virtual environment CPython3.11.11.final.0-64 in 1366ms\n",
            "  creator CPython3Posix(dest=/content/hlaclust_env, clear=False, no_vcs_ignore=False, global=False)\n",
            "  seeder FromAppData(download=False, pip=bundle, setuptools=bundle, wheel=bundle, via=copy, app_data_dir=/root/.local/share/virtualenv)\n",
            "    added seed packages: pip==25.0.1, setuptools==75.8.0, wheel==0.45.1\n",
            "  activators BashActivator,CShellActivator,FishActivator,NushellActivator,PowerShellActivator,PythonActivator\n",
            "env: PATH=/content/hlaclust_env/bin:/usr/local/bin:/usr/bin:/bin:$PATH\n",
            "/content/hlaclust_env/bin/python\n"
          ]
        }
      ]
    },
    {
      "cell_type": "code",
      "source": [
        "%cd /content/HLA-PepClust\n",
        "!ls"
      ],
      "metadata": {
        "colab": {
          "base_uri": "https://localhost:8080/"
        },
        "id": "5aCKDJOPDMIm",
        "outputId": "b0e5d3a6-4612-4ac5-e28b-957cc0676ae5"
      },
      "execution_count": 4,
      "outputs": [
        {
          "output_type": "stream",
          "name": "stdout",
          "text": [
            "/content/HLA-PepClust\n",
            "app\tbuild  config.py  docker-compose.yml  __init__.py  pyproject.toml  requirements.txt  test\n",
            "assets\tcli    data\t  Dockerfile\t      model\t   README.md\t   setup.py\n"
          ]
        }
      ]
    },
    {
      "cell_type": "code",
      "source": [
        "!pip install -e ."
      ],
      "metadata": {
        "colab": {
          "base_uri": "https://localhost:8080/",
          "height": 1000
        },
        "id": "702_lsKuDbbl",
        "outputId": "1f372a3b-4cbe-45d3-dbb4-1556302c2c7c"
      },
      "execution_count": 5,
      "outputs": [
        {
          "output_type": "stream",
          "name": "stdout",
          "text": [
            "Obtaining file:///content/HLA-PepClust\n",
            "  Installing build dependencies ... \u001b[?25l\u001b[?25hdone\n",
            "  Checking if build backend supports build_editable ... \u001b[?25l\u001b[?25hdone\n",
            "  Getting requirements to build editable ... \u001b[?25l\u001b[?25hdone\n",
            "  Preparing editable metadata (pyproject.toml) ... \u001b[?25l\u001b[?25hdone\n",
            "Collecting rich==13.9.4 (from HLA-PEPCLUST==0.1.0.dev0)\n",
            "  Downloading rich-13.9.4-py3-none-any.whl.metadata (18 kB)\n",
            "Collecting click==8.1.8 (from HLA-PEPCLUST==0.1.0.dev0)\n",
            "  Downloading click-8.1.8-py3-none-any.whl.metadata (2.3 kB)\n",
            "Collecting pandas==2.2.3 (from HLA-PEPCLUST==0.1.0.dev0)\n",
            "  Downloading pandas-2.2.3-cp311-cp311-manylinux_2_17_x86_64.manylinux2014_x86_64.whl.metadata (89 kB)\n",
            "Collecting seaborn==0.13.2 (from HLA-PEPCLUST==0.1.0.dev0)\n",
            "  Downloading seaborn-0.13.2-py3-none-any.whl.metadata (5.4 kB)\n",
            "Collecting matplotlib==3.9.4 (from HLA-PEPCLUST==0.1.0.dev0)\n",
            "  Downloading matplotlib-3.9.4-cp311-cp311-manylinux_2_17_x86_64.manylinux2014_x86_64.whl.metadata (11 kB)\n",
            "Collecting rich-argparse==1.7.0 (from HLA-PEPCLUST==0.1.0.dev0)\n",
            "  Downloading rich_argparse-1.7.0-py3-none-any.whl.metadata (14 kB)\n",
            "Collecting opencv-python (from HLA-PEPCLUST==0.1.0.dev0)\n",
            "  Downloading opencv_python-4.11.0.86-cp37-abi3-manylinux_2_17_x86_64.manylinux2014_x86_64.whl.metadata (20 kB)\n",
            "Collecting altair==5.5.0 (from HLA-PEPCLUST==0.1.0.dev0)\n",
            "  Downloading altair-5.5.0-py3-none-any.whl.metadata (11 kB)\n",
            "Collecting vl-convert-python==1.7.0 (from HLA-PEPCLUST==0.1.0.dev0)\n",
            "  Downloading vl_convert_python-1.7.0-cp37-abi3-manylinux_2_17_x86_64.manylinux2014_x86_64.whl.metadata (5.2 kB)\n",
            "Collecting ipykernel (from HLA-PEPCLUST==0.1.0.dev0)\n",
            "  Downloading ipykernel-6.29.5-py3-none-any.whl.metadata (6.3 kB)\n",
            "Collecting jinja2 (from altair==5.5.0->HLA-PEPCLUST==0.1.0.dev0)\n",
            "  Downloading jinja2-3.1.6-py3-none-any.whl.metadata (2.9 kB)\n",
            "Collecting jsonschema>=3.0 (from altair==5.5.0->HLA-PEPCLUST==0.1.0.dev0)\n",
            "  Downloading jsonschema-4.23.0-py3-none-any.whl.metadata (7.9 kB)\n",
            "Collecting narwhals>=1.14.2 (from altair==5.5.0->HLA-PEPCLUST==0.1.0.dev0)\n",
            "  Downloading narwhals-1.30.0-py3-none-any.whl.metadata (11 kB)\n",
            "Collecting packaging (from altair==5.5.0->HLA-PEPCLUST==0.1.0.dev0)\n",
            "  Downloading packaging-24.2-py3-none-any.whl.metadata (3.2 kB)\n",
            "Collecting typing-extensions>=4.10.0 (from altair==5.5.0->HLA-PEPCLUST==0.1.0.dev0)\n",
            "  Downloading typing_extensions-4.12.2-py3-none-any.whl.metadata (3.0 kB)\n",
            "Collecting contourpy>=1.0.1 (from matplotlib==3.9.4->HLA-PEPCLUST==0.1.0.dev0)\n",
            "  Downloading contourpy-1.3.1-cp311-cp311-manylinux_2_17_x86_64.manylinux2014_x86_64.whl.metadata (5.4 kB)\n",
            "Collecting cycler>=0.10 (from matplotlib==3.9.4->HLA-PEPCLUST==0.1.0.dev0)\n",
            "  Downloading cycler-0.12.1-py3-none-any.whl.metadata (3.8 kB)\n",
            "Collecting fonttools>=4.22.0 (from matplotlib==3.9.4->HLA-PEPCLUST==0.1.0.dev0)\n",
            "  Downloading fonttools-4.56.0-cp311-cp311-manylinux_2_17_x86_64.manylinux2014_x86_64.whl.metadata (101 kB)\n",
            "Collecting kiwisolver>=1.3.1 (from matplotlib==3.9.4->HLA-PEPCLUST==0.1.0.dev0)\n",
            "  Downloading kiwisolver-1.4.8-cp311-cp311-manylinux_2_17_x86_64.manylinux2014_x86_64.whl.metadata (6.2 kB)\n",
            "Collecting numpy>=1.23 (from matplotlib==3.9.4->HLA-PEPCLUST==0.1.0.dev0)\n",
            "  Downloading numpy-2.2.3-cp311-cp311-manylinux_2_17_x86_64.manylinux2014_x86_64.whl.metadata (62 kB)\n",
            "Collecting pillow>=8 (from matplotlib==3.9.4->HLA-PEPCLUST==0.1.0.dev0)\n",
            "  Downloading pillow-11.1.0-cp311-cp311-manylinux_2_28_x86_64.whl.metadata (9.1 kB)\n",
            "Collecting pyparsing>=2.3.1 (from matplotlib==3.9.4->HLA-PEPCLUST==0.1.0.dev0)\n",
            "  Downloading pyparsing-3.2.1-py3-none-any.whl.metadata (5.0 kB)\n",
            "Collecting python-dateutil>=2.7 (from matplotlib==3.9.4->HLA-PEPCLUST==0.1.0.dev0)\n",
            "  Downloading python_dateutil-2.9.0.post0-py2.py3-none-any.whl.metadata (8.4 kB)\n",
            "Collecting pytz>=2020.1 (from pandas==2.2.3->HLA-PEPCLUST==0.1.0.dev0)\n",
            "  Downloading pytz-2025.1-py2.py3-none-any.whl.metadata (22 kB)\n",
            "Collecting tzdata>=2022.7 (from pandas==2.2.3->HLA-PEPCLUST==0.1.0.dev0)\n",
            "  Downloading tzdata-2025.1-py2.py3-none-any.whl.metadata (1.4 kB)\n",
            "Collecting markdown-it-py>=2.2.0 (from rich==13.9.4->HLA-PEPCLUST==0.1.0.dev0)\n",
            "  Downloading markdown_it_py-3.0.0-py3-none-any.whl.metadata (6.9 kB)\n",
            "Collecting pygments<3.0.0,>=2.13.0 (from rich==13.9.4->HLA-PEPCLUST==0.1.0.dev0)\n",
            "  Downloading pygments-2.19.1-py3-none-any.whl.metadata (2.5 kB)\n",
            "Collecting comm>=0.1.1 (from ipykernel->HLA-PEPCLUST==0.1.0.dev0)\n",
            "  Downloading comm-0.2.2-py3-none-any.whl.metadata (3.7 kB)\n",
            "Collecting debugpy>=1.6.5 (from ipykernel->HLA-PEPCLUST==0.1.0.dev0)\n",
            "  Downloading debugpy-1.8.13-cp311-cp311-manylinux_2_5_x86_64.manylinux1_x86_64.manylinux_2_17_x86_64.manylinux2014_x86_64.whl.metadata (1.3 kB)\n",
            "Collecting ipython>=7.23.1 (from ipykernel->HLA-PEPCLUST==0.1.0.dev0)\n",
            "  Downloading ipython-9.0.2-py3-none-any.whl.metadata (4.3 kB)\n",
            "Collecting jupyter-client>=6.1.12 (from ipykernel->HLA-PEPCLUST==0.1.0.dev0)\n",
            "  Downloading jupyter_client-8.6.3-py3-none-any.whl.metadata (8.3 kB)\n",
            "Collecting jupyter-core!=5.0.*,>=4.12 (from ipykernel->HLA-PEPCLUST==0.1.0.dev0)\n",
            "  Downloading jupyter_core-5.7.2-py3-none-any.whl.metadata (3.4 kB)\n",
            "Collecting matplotlib-inline>=0.1 (from ipykernel->HLA-PEPCLUST==0.1.0.dev0)\n",
            "  Downloading matplotlib_inline-0.1.7-py3-none-any.whl.metadata (3.9 kB)\n",
            "Collecting nest-asyncio (from ipykernel->HLA-PEPCLUST==0.1.0.dev0)\n",
            "  Downloading nest_asyncio-1.6.0-py3-none-any.whl.metadata (2.8 kB)\n",
            "Collecting psutil (from ipykernel->HLA-PEPCLUST==0.1.0.dev0)\n",
            "  Downloading psutil-7.0.0-cp36-abi3-manylinux_2_12_x86_64.manylinux2010_x86_64.manylinux_2_17_x86_64.manylinux2014_x86_64.whl.metadata (22 kB)\n",
            "Collecting pyzmq>=24 (from ipykernel->HLA-PEPCLUST==0.1.0.dev0)\n",
            "  Downloading pyzmq-26.2.1-cp311-cp311-manylinux_2_28_x86_64.whl.metadata (6.2 kB)\n",
            "Collecting tornado>=6.1 (from ipykernel->HLA-PEPCLUST==0.1.0.dev0)\n",
            "  Downloading tornado-6.4.2-cp38-abi3-manylinux_2_5_x86_64.manylinux1_x86_64.manylinux_2_17_x86_64.manylinux2014_x86_64.whl.metadata (2.5 kB)\n",
            "Collecting traitlets>=5.4.0 (from ipykernel->HLA-PEPCLUST==0.1.0.dev0)\n",
            "  Downloading traitlets-5.14.3-py3-none-any.whl.metadata (10 kB)\n",
            "Collecting decorator (from ipython>=7.23.1->ipykernel->HLA-PEPCLUST==0.1.0.dev0)\n",
            "  Downloading decorator-5.2.1-py3-none-any.whl.metadata (3.9 kB)\n",
            "Collecting ipython-pygments-lexers (from ipython>=7.23.1->ipykernel->HLA-PEPCLUST==0.1.0.dev0)\n",
            "  Downloading ipython_pygments_lexers-1.1.1-py3-none-any.whl.metadata (1.1 kB)\n",
            "Collecting jedi>=0.16 (from ipython>=7.23.1->ipykernel->HLA-PEPCLUST==0.1.0.dev0)\n",
            "  Downloading jedi-0.19.2-py2.py3-none-any.whl.metadata (22 kB)\n",
            "Collecting pexpect>4.3 (from ipython>=7.23.1->ipykernel->HLA-PEPCLUST==0.1.0.dev0)\n",
            "  Downloading pexpect-4.9.0-py2.py3-none-any.whl.metadata (2.5 kB)\n",
            "Collecting prompt_toolkit<3.1.0,>=3.0.41 (from ipython>=7.23.1->ipykernel->HLA-PEPCLUST==0.1.0.dev0)\n",
            "  Downloading prompt_toolkit-3.0.50-py3-none-any.whl.metadata (6.6 kB)\n",
            "Collecting stack_data (from ipython>=7.23.1->ipykernel->HLA-PEPCLUST==0.1.0.dev0)\n",
            "  Downloading stack_data-0.6.3-py3-none-any.whl.metadata (18 kB)\n",
            "Collecting attrs>=22.2.0 (from jsonschema>=3.0->altair==5.5.0->HLA-PEPCLUST==0.1.0.dev0)\n",
            "  Downloading attrs-25.1.0-py3-none-any.whl.metadata (10 kB)\n",
            "Collecting jsonschema-specifications>=2023.03.6 (from jsonschema>=3.0->altair==5.5.0->HLA-PEPCLUST==0.1.0.dev0)\n",
            "  Downloading jsonschema_specifications-2024.10.1-py3-none-any.whl.metadata (3.0 kB)\n",
            "Collecting referencing>=0.28.4 (from jsonschema>=3.0->altair==5.5.0->HLA-PEPCLUST==0.1.0.dev0)\n",
            "  Downloading referencing-0.36.2-py3-none-any.whl.metadata (2.8 kB)\n",
            "Collecting rpds-py>=0.7.1 (from jsonschema>=3.0->altair==5.5.0->HLA-PEPCLUST==0.1.0.dev0)\n",
            "  Downloading rpds_py-0.23.1-cp311-cp311-manylinux_2_17_x86_64.manylinux2014_x86_64.whl.metadata (4.1 kB)\n",
            "Collecting platformdirs>=2.5 (from jupyter-core!=5.0.*,>=4.12->ipykernel->HLA-PEPCLUST==0.1.0.dev0)\n",
            "  Downloading platformdirs-4.3.6-py3-none-any.whl.metadata (11 kB)\n",
            "Collecting mdurl~=0.1 (from markdown-it-py>=2.2.0->rich==13.9.4->HLA-PEPCLUST==0.1.0.dev0)\n",
            "  Downloading mdurl-0.1.2-py3-none-any.whl.metadata (1.6 kB)\n",
            "Collecting six>=1.5 (from python-dateutil>=2.7->matplotlib==3.9.4->HLA-PEPCLUST==0.1.0.dev0)\n",
            "  Downloading six-1.17.0-py2.py3-none-any.whl.metadata (1.7 kB)\n",
            "Collecting MarkupSafe>=2.0 (from jinja2->altair==5.5.0->HLA-PEPCLUST==0.1.0.dev0)\n",
            "  Downloading MarkupSafe-3.0.2-cp311-cp311-manylinux_2_17_x86_64.manylinux2014_x86_64.whl.metadata (4.0 kB)\n",
            "Collecting parso<0.9.0,>=0.8.4 (from jedi>=0.16->ipython>=7.23.1->ipykernel->HLA-PEPCLUST==0.1.0.dev0)\n",
            "  Downloading parso-0.8.4-py2.py3-none-any.whl.metadata (7.7 kB)\n",
            "Collecting ptyprocess>=0.5 (from pexpect>4.3->ipython>=7.23.1->ipykernel->HLA-PEPCLUST==0.1.0.dev0)\n",
            "  Downloading ptyprocess-0.7.0-py2.py3-none-any.whl.metadata (1.3 kB)\n",
            "Collecting wcwidth (from prompt_toolkit<3.1.0,>=3.0.41->ipython>=7.23.1->ipykernel->HLA-PEPCLUST==0.1.0.dev0)\n",
            "  Downloading wcwidth-0.2.13-py2.py3-none-any.whl.metadata (14 kB)\n",
            "Collecting executing>=1.2.0 (from stack_data->ipython>=7.23.1->ipykernel->HLA-PEPCLUST==0.1.0.dev0)\n",
            "  Downloading executing-2.2.0-py2.py3-none-any.whl.metadata (8.9 kB)\n",
            "Collecting asttokens>=2.1.0 (from stack_data->ipython>=7.23.1->ipykernel->HLA-PEPCLUST==0.1.0.dev0)\n",
            "  Downloading asttokens-3.0.0-py3-none-any.whl.metadata (4.7 kB)\n",
            "Collecting pure-eval (from stack_data->ipython>=7.23.1->ipykernel->HLA-PEPCLUST==0.1.0.dev0)\n",
            "  Downloading pure_eval-0.2.3-py3-none-any.whl.metadata (6.3 kB)\n",
            "Downloading altair-5.5.0-py3-none-any.whl (731 kB)\n",
            "\u001b[2K   \u001b[90m━━━━━━━━━━━━━━━━━━━━━━━━━━━━━━━━━━━━━━━━\u001b[0m \u001b[32m731.2/731.2 kB\u001b[0m \u001b[31m17.4 MB/s\u001b[0m eta \u001b[36m0:00:00\u001b[0m\n",
            "\u001b[?25hDownloading click-8.1.8-py3-none-any.whl (98 kB)\n",
            "Downloading matplotlib-3.9.4-cp311-cp311-manylinux_2_17_x86_64.manylinux2014_x86_64.whl (8.3 MB)\n",
            "\u001b[2K   \u001b[90m━━━━━━━━━━━━━━━━━━━━━━━━━━━━━━━━━━━━━━━━\u001b[0m \u001b[32m8.3/8.3 MB\u001b[0m \u001b[31m88.0 MB/s\u001b[0m eta \u001b[36m0:00:00\u001b[0m\n",
            "\u001b[?25hDownloading pandas-2.2.3-cp311-cp311-manylinux_2_17_x86_64.manylinux2014_x86_64.whl (13.1 MB)\n",
            "\u001b[2K   \u001b[90m━━━━━━━━━━━━━━━━━━━━━━━━━━━━━━━━━━━━━━━━\u001b[0m \u001b[32m13.1/13.1 MB\u001b[0m \u001b[31m113.2 MB/s\u001b[0m eta \u001b[36m0:00:00\u001b[0m\n",
            "\u001b[?25hDownloading rich-13.9.4-py3-none-any.whl (242 kB)\n",
            "Downloading rich_argparse-1.7.0-py3-none-any.whl (25 kB)\n",
            "Downloading seaborn-0.13.2-py3-none-any.whl (294 kB)\n",
            "Downloading vl_convert_python-1.7.0-cp37-abi3-manylinux_2_17_x86_64.manylinux2014_x86_64.whl (30.1 MB)\n",
            "\u001b[2K   \u001b[90m━━━━━━━━━━━━━━━━━━━━━━━━━━━━━━━━━━━━━━━━\u001b[0m \u001b[32m30.1/30.1 MB\u001b[0m \u001b[31m106.3 MB/s\u001b[0m eta \u001b[36m0:00:00\u001b[0m\n",
            "\u001b[?25hDownloading ipykernel-6.29.5-py3-none-any.whl (117 kB)\n",
            "Downloading opencv_python-4.11.0.86-cp37-abi3-manylinux_2_17_x86_64.manylinux2014_x86_64.whl (63.0 MB)\n",
            "\u001b[2K   \u001b[90m━━━━━━━━━━━━━━━━━━━━━━━━━━━━━━━━━━━━━━━━\u001b[0m \u001b[32m63.0/63.0 MB\u001b[0m \u001b[31m48.3 MB/s\u001b[0m eta \u001b[36m0:00:00\u001b[0m\n",
            "\u001b[?25hDownloading comm-0.2.2-py3-none-any.whl (7.2 kB)\n",
            "Downloading contourpy-1.3.1-cp311-cp311-manylinux_2_17_x86_64.manylinux2014_x86_64.whl (326 kB)\n",
            "Downloading cycler-0.12.1-py3-none-any.whl (8.3 kB)\n",
            "Downloading debugpy-1.8.13-cp311-cp311-manylinux_2_5_x86_64.manylinux1_x86_64.manylinux_2_17_x86_64.manylinux2014_x86_64.whl (3.1 MB)\n",
            "\u001b[2K   \u001b[90m━━━━━━━━━━━━━━━━━━━━━━━━━━━━━━━━━━━━━━━━\u001b[0m \u001b[32m3.1/3.1 MB\u001b[0m \u001b[31m92.1 MB/s\u001b[0m eta \u001b[36m0:00:00\u001b[0m\n",
            "\u001b[?25hDownloading fonttools-4.56.0-cp311-cp311-manylinux_2_17_x86_64.manylinux2014_x86_64.whl (4.9 MB)\n",
            "\u001b[2K   \u001b[90m━━━━━━━━━━━━━━━━━━━━━━━━━━━━━━━━━━━━━━━━\u001b[0m \u001b[32m4.9/4.9 MB\u001b[0m \u001b[31m116.0 MB/s\u001b[0m eta \u001b[36m0:00:00\u001b[0m\n",
            "\u001b[?25hDownloading ipython-9.0.2-py3-none-any.whl (600 kB)\n",
            "\u001b[2K   \u001b[90m━━━━━━━━━━━━━━━━━━━━━━━━━━━━━━━━━━━━━━━━\u001b[0m \u001b[32m600.5/600.5 kB\u001b[0m \u001b[31m22.0 MB/s\u001b[0m eta \u001b[36m0:00:00\u001b[0m\n",
            "\u001b[?25hDownloading jsonschema-4.23.0-py3-none-any.whl (88 kB)\n",
            "Downloading jupyter_client-8.6.3-py3-none-any.whl (106 kB)\n",
            "Downloading jupyter_core-5.7.2-py3-none-any.whl (28 kB)\n",
            "Downloading kiwisolver-1.4.8-cp311-cp311-manylinux_2_17_x86_64.manylinux2014_x86_64.whl (1.4 MB)\n",
            "\u001b[2K   \u001b[90m━━━━━━━━━━━━━━━━━━━━━━━━━━━━━━━━━━━━━━━━\u001b[0m \u001b[32m1.4/1.4 MB\u001b[0m \u001b[31m61.0 MB/s\u001b[0m eta \u001b[36m0:00:00\u001b[0m\n",
            "\u001b[?25hDownloading markdown_it_py-3.0.0-py3-none-any.whl (87 kB)\n",
            "Downloading matplotlib_inline-0.1.7-py3-none-any.whl (9.9 kB)\n",
            "Downloading narwhals-1.30.0-py3-none-any.whl (313 kB)\n",
            "Downloading numpy-2.2.3-cp311-cp311-manylinux_2_17_x86_64.manylinux2014_x86_64.whl (16.4 MB)\n",
            "\u001b[2K   \u001b[90m━━━━━━━━━━━━━━━━━━━━━━━━━━━━━━━━━━━━━━━━\u001b[0m \u001b[32m16.4/16.4 MB\u001b[0m \u001b[31m123.7 MB/s\u001b[0m eta \u001b[36m0:00:00\u001b[0m\n",
            "\u001b[?25hDownloading packaging-24.2-py3-none-any.whl (65 kB)\n",
            "Downloading pillow-11.1.0-cp311-cp311-manylinux_2_28_x86_64.whl (4.5 MB)\n",
            "\u001b[2K   \u001b[90m━━━━━━━━━━━━━━━━━━━━━━━━━━━━━━━━━━━━━━━━\u001b[0m \u001b[32m4.5/4.5 MB\u001b[0m \u001b[31m104.3 MB/s\u001b[0m eta \u001b[36m0:00:00\u001b[0m\n",
            "\u001b[?25hDownloading pygments-2.19.1-py3-none-any.whl (1.2 MB)\n",
            "\u001b[2K   \u001b[90m━━━━━━━━━━━━━━━━━━━━━━━━━━━━━━━━━━━━━━━━\u001b[0m \u001b[32m1.2/1.2 MB\u001b[0m \u001b[31m47.7 MB/s\u001b[0m eta \u001b[36m0:00:00\u001b[0m\n",
            "\u001b[?25hDownloading pyparsing-3.2.1-py3-none-any.whl (107 kB)\n",
            "Downloading python_dateutil-2.9.0.post0-py2.py3-none-any.whl (229 kB)\n",
            "Downloading pytz-2025.1-py2.py3-none-any.whl (507 kB)\n",
            "Downloading pyzmq-26.2.1-cp311-cp311-manylinux_2_28_x86_64.whl (874 kB)\n",
            "\u001b[2K   \u001b[90m━━━━━━━━━━━━━━━━━━━━━━━━━━━━━━━━━━━━━━━━\u001b[0m \u001b[32m874.5/874.5 kB\u001b[0m \u001b[31m38.7 MB/s\u001b[0m eta \u001b[36m0:00:00\u001b[0m\n",
            "\u001b[?25hDownloading tornado-6.4.2-cp38-abi3-manylinux_2_5_x86_64.manylinux1_x86_64.manylinux_2_17_x86_64.manylinux2014_x86_64.whl (437 kB)\n",
            "Downloading traitlets-5.14.3-py3-none-any.whl (85 kB)\n",
            "Downloading typing_extensions-4.12.2-py3-none-any.whl (37 kB)\n",
            "Downloading tzdata-2025.1-py2.py3-none-any.whl (346 kB)\n",
            "Downloading jinja2-3.1.6-py3-none-any.whl (134 kB)\n",
            "Downloading nest_asyncio-1.6.0-py3-none-any.whl (5.2 kB)\n",
            "Downloading psutil-7.0.0-cp36-abi3-manylinux_2_12_x86_64.manylinux2010_x86_64.manylinux_2_17_x86_64.manylinux2014_x86_64.whl (277 kB)\n",
            "Downloading attrs-25.1.0-py3-none-any.whl (63 kB)\n",
            "Downloading jedi-0.19.2-py2.py3-none-any.whl (1.6 MB)\n",
            "\u001b[2K   \u001b[90m━━━━━━━━━━━━━━━━━━━━━━━━━━━━━━━━━━━━━━━━\u001b[0m \u001b[32m1.6/1.6 MB\u001b[0m \u001b[31m58.5 MB/s\u001b[0m eta \u001b[36m0:00:00\u001b[0m\n",
            "\u001b[?25hDownloading jsonschema_specifications-2024.10.1-py3-none-any.whl (18 kB)\n",
            "Downloading MarkupSafe-3.0.2-cp311-cp311-manylinux_2_17_x86_64.manylinux2014_x86_64.whl (23 kB)\n",
            "Downloading mdurl-0.1.2-py3-none-any.whl (10.0 kB)\n",
            "Downloading pexpect-4.9.0-py2.py3-none-any.whl (63 kB)\n",
            "Downloading platformdirs-4.3.6-py3-none-any.whl (18 kB)\n",
            "Downloading prompt_toolkit-3.0.50-py3-none-any.whl (387 kB)\n",
            "Downloading referencing-0.36.2-py3-none-any.whl (26 kB)\n",
            "Downloading rpds_py-0.23.1-cp311-cp311-manylinux_2_17_x86_64.manylinux2014_x86_64.whl (386 kB)\n",
            "Downloading six-1.17.0-py2.py3-none-any.whl (11 kB)\n",
            "Downloading decorator-5.2.1-py3-none-any.whl (9.2 kB)\n",
            "Downloading ipython_pygments_lexers-1.1.1-py3-none-any.whl (8.1 kB)\n",
            "Downloading stack_data-0.6.3-py3-none-any.whl (24 kB)\n",
            "Downloading asttokens-3.0.0-py3-none-any.whl (26 kB)\n",
            "Downloading executing-2.2.0-py2.py3-none-any.whl (26 kB)\n",
            "Downloading parso-0.8.4-py2.py3-none-any.whl (103 kB)\n",
            "Downloading ptyprocess-0.7.0-py2.py3-none-any.whl (13 kB)\n",
            "Downloading pure_eval-0.2.3-py3-none-any.whl (11 kB)\n",
            "Downloading wcwidth-0.2.13-py2.py3-none-any.whl (34 kB)\n",
            "Building wheels for collected packages: HLA-PEPCLUST\n",
            "  Building editable for HLA-PEPCLUST (pyproject.toml) ... \u001b[?25l\u001b[?25hdone\n",
            "  Created wheel for HLA-PEPCLUST: filename=hla_pepclust-0.1.0.dev0-0.editable-py3-none-any.whl size=4527 sha256=871cfa6ddd18b5ca6ee51d9c742ac29f016e27e97dc56753af732bf929e43927\n",
            "  Stored in directory: /tmp/pip-ephem-wheel-cache-4kw1gkbw/wheels/dc/b1/c1/5e97d7bbd94a4edd043e0f9500a4afd2a0845883336c76b8cf\n",
            "Successfully built HLA-PEPCLUST\n",
            "Installing collected packages: wcwidth, pytz, pure-eval, ptyprocess, vl-convert-python, tzdata, typing-extensions, traitlets, tornado, six, rpds-py, pyzmq, pyparsing, pygments, psutil, prompt_toolkit, platformdirs, pillow, pexpect, parso, packaging, numpy, nest-asyncio, narwhals, mdurl, MarkupSafe, kiwisolver, fonttools, executing, decorator, debugpy, cycler, click, attrs, asttokens, stack_data, referencing, python-dateutil, opencv-python, matplotlib-inline, markdown-it-py, jupyter-core, jinja2, jedi, ipython-pygments-lexers, contourpy, comm, rich, pandas, matplotlib, jupyter-client, jsonschema-specifications, ipython, seaborn, rich-argparse, jsonschema, ipykernel, altair, HLA-PEPCLUST\n",
            "Successfully installed HLA-PEPCLUST-0.1.0.dev0 MarkupSafe-3.0.2 altair-5.5.0 asttokens-3.0.0 attrs-25.1.0 click-8.1.8 comm-0.2.2 contourpy-1.3.1 cycler-0.12.1 debugpy-1.8.13 decorator-5.2.1 executing-2.2.0 fonttools-4.56.0 ipykernel-6.29.5 ipython-9.0.2 ipython-pygments-lexers-1.1.1 jedi-0.19.2 jinja2-3.1.6 jsonschema-4.23.0 jsonschema-specifications-2024.10.1 jupyter-client-8.6.3 jupyter-core-5.7.2 kiwisolver-1.4.8 markdown-it-py-3.0.0 matplotlib-3.9.4 matplotlib-inline-0.1.7 mdurl-0.1.2 narwhals-1.30.0 nest-asyncio-1.6.0 numpy-2.2.3 opencv-python-4.11.0.86 packaging-24.2 pandas-2.2.3 parso-0.8.4 pexpect-4.9.0 pillow-11.1.0 platformdirs-4.3.6 prompt_toolkit-3.0.50 psutil-7.0.0 ptyprocess-0.7.0 pure-eval-0.2.3 pygments-2.19.1 pyparsing-3.2.1 python-dateutil-2.9.0.post0 pytz-2025.1 pyzmq-26.2.1 referencing-0.36.2 rich-13.9.4 rich-argparse-1.7.0 rpds-py-0.23.1 seaborn-0.13.2 six-1.17.0 stack_data-0.6.3 tornado-6.4.2 traitlets-5.14.3 typing-extensions-4.12.2 tzdata-2025.1 vl-convert-python-1.7.0 wcwidth-0.2.13\n"
          ]
        },
        {
          "output_type": "display_data",
          "data": {
            "application/vnd.colab-display-data+json": {
              "pip_warning": {
                "packages": [
                  "PIL",
                  "cycler",
                  "kiwisolver",
                  "matplotlib_inline",
                  "pexpect",
                  "prompt_toolkit",
                  "six",
                  "tornado",
                  "wcwidth"
                ]
              },
              "id": "572d3aeeed8b461b937afa49cf96ce3a"
            }
          },
          "metadata": {}
        }
      ]
    },
    {
      "cell_type": "code",
      "source": [
        "# !pip install typer==0.9.0"
      ],
      "metadata": {
        "colab": {
          "base_uri": "https://localhost:8080/"
        },
        "id": "iarJP3swD8A2",
        "outputId": "d472a22a-8a4c-4a14-a834-d717a7d2f8d7"
      },
      "execution_count": 7,
      "outputs": [
        {
          "output_type": "stream",
          "name": "stdout",
          "text": [
            "Requirement already satisfied: typer==0.9.0 in /content/hlaclust_env/lib/python3.11/site-packages (0.9.0)\n",
            "Requirement already satisfied: click<9.0.0,>=7.1.1 in /content/hlaclust_env/lib/python3.11/site-packages (from typer==0.9.0) (8.1.8)\n",
            "Requirement already satisfied: typing-extensions>=3.7.4.3 in /content/hlaclust_env/lib/python3.11/site-packages (from typer==0.9.0) (4.12.2)\n"
          ]
        }
      ]
    },
    {
      "cell_type": "markdown",
      "source": [
        "## This only for google colab"
      ],
      "metadata": {
        "id": "aNH_j57LNamM"
      }
    },
    {
      "cell_type": "code",
      "source": [
        "!pip install --upgrade matplotlib-inline\n",
        "!pip install ipykernel"
      ],
      "metadata": {
        "colab": {
          "base_uri": "https://localhost:8080/"
        },
        "id": "vQw72bH0Fpqm",
        "outputId": "902f3543-db95-404a-e672-0eb3bd91acf9"
      },
      "execution_count": 6,
      "outputs": [
        {
          "output_type": "stream",
          "name": "stdout",
          "text": [
            "Requirement already satisfied: matplotlib-inline in /content/hlaclust_env/lib/python3.11/site-packages (0.1.7)\n",
            "Requirement already satisfied: traitlets in /content/hlaclust_env/lib/python3.11/site-packages (from matplotlib-inline) (5.14.3)\n",
            "Requirement already satisfied: ipykernel in /content/hlaclust_env/lib/python3.11/site-packages (6.29.5)\n",
            "Requirement already satisfied: comm>=0.1.1 in /content/hlaclust_env/lib/python3.11/site-packages (from ipykernel) (0.2.2)\n",
            "Requirement already satisfied: debugpy>=1.6.5 in /content/hlaclust_env/lib/python3.11/site-packages (from ipykernel) (1.8.13)\n",
            "Requirement already satisfied: ipython>=7.23.1 in /content/hlaclust_env/lib/python3.11/site-packages (from ipykernel) (9.0.2)\n",
            "Requirement already satisfied: jupyter-client>=6.1.12 in /content/hlaclust_env/lib/python3.11/site-packages (from ipykernel) (8.6.3)\n",
            "Requirement already satisfied: jupyter-core!=5.0.*,>=4.12 in /content/hlaclust_env/lib/python3.11/site-packages (from ipykernel) (5.7.2)\n",
            "Requirement already satisfied: matplotlib-inline>=0.1 in /content/hlaclust_env/lib/python3.11/site-packages (from ipykernel) (0.1.7)\n",
            "Requirement already satisfied: nest-asyncio in /content/hlaclust_env/lib/python3.11/site-packages (from ipykernel) (1.6.0)\n",
            "Requirement already satisfied: packaging in /content/hlaclust_env/lib/python3.11/site-packages (from ipykernel) (24.2)\n",
            "Requirement already satisfied: psutil in /content/hlaclust_env/lib/python3.11/site-packages (from ipykernel) (7.0.0)\n",
            "Requirement already satisfied: pyzmq>=24 in /content/hlaclust_env/lib/python3.11/site-packages (from ipykernel) (26.2.1)\n",
            "Requirement already satisfied: tornado>=6.1 in /content/hlaclust_env/lib/python3.11/site-packages (from ipykernel) (6.4.2)\n",
            "Requirement already satisfied: traitlets>=5.4.0 in /content/hlaclust_env/lib/python3.11/site-packages (from ipykernel) (5.14.3)\n",
            "Requirement already satisfied: decorator in /content/hlaclust_env/lib/python3.11/site-packages (from ipython>=7.23.1->ipykernel) (5.2.1)\n",
            "Requirement already satisfied: ipython-pygments-lexers in /content/hlaclust_env/lib/python3.11/site-packages (from ipython>=7.23.1->ipykernel) (1.1.1)\n",
            "Requirement already satisfied: jedi>=0.16 in /content/hlaclust_env/lib/python3.11/site-packages (from ipython>=7.23.1->ipykernel) (0.19.2)\n",
            "Requirement already satisfied: pexpect>4.3 in /content/hlaclust_env/lib/python3.11/site-packages (from ipython>=7.23.1->ipykernel) (4.9.0)\n",
            "Requirement already satisfied: prompt_toolkit<3.1.0,>=3.0.41 in /content/hlaclust_env/lib/python3.11/site-packages (from ipython>=7.23.1->ipykernel) (3.0.50)\n",
            "Requirement already satisfied: pygments>=2.4.0 in /content/hlaclust_env/lib/python3.11/site-packages (from ipython>=7.23.1->ipykernel) (2.19.1)\n",
            "Requirement already satisfied: stack_data in /content/hlaclust_env/lib/python3.11/site-packages (from ipython>=7.23.1->ipykernel) (0.6.3)\n",
            "Requirement already satisfied: typing_extensions>=4.6 in /content/hlaclust_env/lib/python3.11/site-packages (from ipython>=7.23.1->ipykernel) (4.12.2)\n",
            "Requirement already satisfied: python-dateutil>=2.8.2 in /content/hlaclust_env/lib/python3.11/site-packages (from jupyter-client>=6.1.12->ipykernel) (2.9.0.post0)\n",
            "Requirement already satisfied: platformdirs>=2.5 in /content/hlaclust_env/lib/python3.11/site-packages (from jupyter-core!=5.0.*,>=4.12->ipykernel) (4.3.6)\n",
            "Requirement already satisfied: parso<0.9.0,>=0.8.4 in /content/hlaclust_env/lib/python3.11/site-packages (from jedi>=0.16->ipython>=7.23.1->ipykernel) (0.8.4)\n",
            "Requirement already satisfied: ptyprocess>=0.5 in /content/hlaclust_env/lib/python3.11/site-packages (from pexpect>4.3->ipython>=7.23.1->ipykernel) (0.7.0)\n",
            "Requirement already satisfied: wcwidth in /content/hlaclust_env/lib/python3.11/site-packages (from prompt_toolkit<3.1.0,>=3.0.41->ipython>=7.23.1->ipykernel) (0.2.13)\n",
            "Requirement already satisfied: six>=1.5 in /content/hlaclust_env/lib/python3.11/site-packages (from python-dateutil>=2.8.2->jupyter-client>=6.1.12->ipykernel) (1.17.0)\n",
            "Requirement already satisfied: executing>=1.2.0 in /content/hlaclust_env/lib/python3.11/site-packages (from stack_data->ipython>=7.23.1->ipykernel) (2.2.0)\n",
            "Requirement already satisfied: asttokens>=2.1.0 in /content/hlaclust_env/lib/python3.11/site-packages (from stack_data->ipython>=7.23.1->ipykernel) (3.0.0)\n",
            "Requirement already satisfied: pure-eval in /content/hlaclust_env/lib/python3.11/site-packages (from stack_data->ipython>=7.23.1->ipykernel) (0.2.3)\n"
          ]
        }
      ]
    },
    {
      "cell_type": "code",
      "source": [
        "!which python"
      ],
      "metadata": {
        "colab": {
          "base_uri": "https://localhost:8080/"
        },
        "id": "0uylCkcgECPS",
        "outputId": "63086251-0453-4cbd-fcdb-bff5ed9b3fc2"
      },
      "execution_count": 7,
      "outputs": [
        {
          "output_type": "stream",
          "name": "stdout",
          "text": [
            "/content/hlaclust_env/bin/python\n"
          ]
        }
      ]
    },
    {
      "cell_type": "code",
      "source": [
        "!which clust-search"
      ],
      "metadata": {
        "colab": {
          "base_uri": "https://localhost:8080/"
        },
        "id": "qzyB6i0cGhiZ",
        "outputId": "ed704e37-b727-4547-c4e2-8018a6d983c5"
      },
      "execution_count": 8,
      "outputs": [
        {
          "output_type": "stream",
          "name": "stdout",
          "text": [
            "/content/hlaclust_env/bin/clust-search\n"
          ]
        }
      ]
    },
    {
      "cell_type": "markdown",
      "source": [
        "## Check if it's istalled properly"
      ],
      "metadata": {
        "id": "wgIrzu5LKlQq"
      }
    },
    {
      "cell_type": "code",
      "source": [
        "import subprocess\n",
        "\n",
        "try:\n",
        "    output = subprocess.run([\"clust-search\", \"-h\"], capture_output=True, text=True)\n",
        "    print(\"clust-search is installed and accessible.\")\n",
        "    print(output.stdout)\n",
        "    if output.stderr:\n",
        "        print(\"clust-search stderr:\")\n",
        "        print(output.stderr)\n",
        "except subprocess.CalledProcessError:\n",
        "    print(\"clust-search is not installed or not accessible in the current environment.\")\n"
      ],
      "metadata": {
        "colab": {
          "base_uri": "https://localhost:8080/"
        },
        "id": "Tid3EikoGoGo",
        "outputId": "d007784c-c2ec-448c-f7e7-c13452b2b0e5"
      },
      "execution_count": 10,
      "outputs": [
        {
          "output_type": "stream",
          "name": "stdout",
          "text": [
            "clust-search is installed and accessible.\n",
            "\n",
            "    __  ____    ___         ____  __________  ________    __  _____________\n",
            "   / / / / /   /   |       / __ \\/ ____/ __ \\/ ____/ /   / / / / ___/_  __/\n",
            "  / /_/ / /   / /| |______/ /_/ / __/ / /_/ / /   / /   / / / /\\__ \\ / /   \n",
            " / __  / /___/ ___ /_____/ ____/ /___/ ____/ /___/ /___/ /_/ /___/ // /    \n",
            "/_/ /_/_____/_/  |_|    /_/   /_____/_/    \\____/_____/\\____//____//_/     \n",
            "                                                                           \n",
            "    \n",
            "\n",
            "HLA-PEPCLUST (v0.0.1-dev)\n",
            "Developed at Li Lab / Purcell Lab, Monash University, Australia.\n",
            "Please cite: Sanjay Krishna & Chen Li et al. bioRxiv (2024)\n",
            "\n",
            "Usage: clust-search [-h] [-db DATABASE] [-t THRESHOLD] [-s SPECIES] [-hla [HLA_TYPES ...]]\n",
            "                    [-p PROCESSES] [-n N_CLUSTERS] [-k] [-o OUTPUT] [-l] [-im] [-c] [-v]\n",
            "                    gibbs_folder reference_folder\n",
            "\n",
            "HLA-PEPCLUST: Identify peptide motifs in immunopeptidomics data 🧬🧬🧬.\n",
            "\n",
            "Positional Arguments:\n",
            "  gibbs_folder                            Path to the test folder containing matrices.\n",
            "  reference_folder                        Path to the human reference folder containing matrices.\n",
            "\n",
            "Options:\n",
            "  -h, --help                              show this help message and exit\n",
            "  -db, --database DATABASE                Generate a motif database from the configuration file.\n",
            "                                          (default: data/config.json)\n",
            "  -t, --threshold THRESHOLD               Threshold for motif similarity (default: 0.5).\n",
            "  -s, --species SPECIES                   Species to search [Human, Mouse] for (default: human).\n",
            "  -hla, --hla_types [HLA_TYPES ...]       List of HLA types to search (defaults to all).\n",
            "  -p, --processes PROCESSES               Number of parallel processes to use.\n",
            "  -n, --n_clusters N_CLUSTERS             Number of clusters to search for.\n",
            "  -k, --best_KL                           Find the best KL divergence only.\n",
            "  -o, --output OUTPUT                     Path to the output folder.\n",
            "  -l, --log                               Enable logging.\n",
            "  -im, --immunolyser                      Enable immunolyser output.\n",
            "  -c, --credits                           Show credits for the motif database pipeline.\n",
            "  -v, --version                           Show the version of the pipeline.\n",
            "\n"
          ]
        }
      ]
    },
    {
      "cell_type": "markdown",
      "source": [
        "## Change input folder as you required upload to google colab to test Gibbs result output\n",
        "**Remember to mention correct species [Human or Mouse]**"
      ],
      "metadata": {
        "id": "niZ-y26rNq7y"
      }
    },
    {
      "cell_type": "code",
      "source": [
        "# Input parameters\n",
        "Gibbs_folder = \"/content/HLA-PepClust/data/D90_HLA_3844874\" ## Chamge this as you required\n",
        "ref_folder = \"/content/HLA-PepClust/data/ref_data\" ## This is default path\n",
        "output_folder = \"/content/test_results/demo_human_2\" ## Change as you required\n",
        "\n",
        "\n",
        "\n",
        "# Default parameters\n",
        "processes = 6  # Number of processes\n",
        "species = \"human\"  # Species\n",
        "n_clusters = 6  # Number of clusters\n"
      ],
      "metadata": {
        "id": "BD0F9GatJDLI"
      },
      "execution_count": 11,
      "outputs": []
    },
    {
      "cell_type": "code",
      "source": [
        "# Build the command based on the input parameters\n",
        "command = [\n",
        "    \"clust-search\",  # Command\n",
        "    Gibbs_folder,  # Path to Gibbs folder\n",
        "    ref_folder,  # Path to reference folder\n",
        "    \"-o\", output_folder,  # Output folder\n",
        "    \"-p\", str(processes),  # Number of processes\n",
        "    \"--log\",  # Enable logging\n",
        "    \"-im\",  # Enable immunolyser output\n",
        "    \"-s\", species,  # Species (human)\n",
        "    \"--n_clusters\", str(n_clusters)  # Number of clusters\n",
        "]\n",
        "\n",
        "# Print the command for verification\n",
        "print(\"Command to run:\")\n",
        "print(\" \".join(command))\n",
        "\n",
        "# Run the command and capture the output\n",
        "result = subprocess.run(command, stdout=subprocess.PIPE, stderr=subprocess.PIPE, text=True)\n",
        "\n",
        "# Print the captured stdout and stderr\n",
        "print(\"Standard Output:\")\n",
        "print(result.stdout)\n",
        "if result.stderr:\n",
        "  print(\"Standard Error:\")\n",
        "  print(result.stderr)\n"
      ],
      "metadata": {
        "colab": {
          "base_uri": "https://localhost:8080/"
        },
        "id": "77IEa9zjDqAw",
        "outputId": "2c43698b-920c-4b90-fb53-f695c62286c8"
      },
      "execution_count": 12,
      "outputs": [
        {
          "output_type": "stream",
          "name": "stdout",
          "text": [
            "Command to run:\n",
            "clust-search /content/HLA-PepClust/data/D90_HLA_3844874 /content/HLA-PepClust/data/ref_data -o /content/test_results/demo_human_2 -p 6 --log -im -s human --n_clusters 6\n",
            "Standard Output:\n",
            "\n",
            "    __  ____    ___         ____  __________  ________    __  _____________\n",
            "   / / / / /   /   |       / __ \\/ ____/ __ \\/ ____/ /   / / / / ___/_  __/\n",
            "  / /_/ / /   / /| |______/ /_/ / __/ / /_/ / /   / /   / / / /\\__ \\ / /   \n",
            " / __  / /___/ ___ /_____/ ____/ /___/ ____/ /___/ /___/ /_/ /___/ // /    \n",
            "/_/ /_/_____/_/  |_|    /_/   /_____/_/    \\____/_____/\\____//____//_/     \n",
            "                                                                           \n",
            "    \n",
            "\n",
            "HLA-PEPCLUST (v0.0.1-dev)\n",
            "Developed at Li Lab / Purcell Lab, Monash University, Australia.\n",
            "Please cite: Sanjay Krishna & Chen Li et al. bioRxiv (2024)\n",
            "\n",
            "─────────────────────── Stage 1/2: Data processing for correlation matrices. ───────────────────────\n",
            "[07:19:17] Species provided: human                                            cluster_search.py:2072\n",
            "           Loading reference databse for human                                cluster_search.py:2074\n",
            "           Reference database loaded successfully.                            cluster_search.py:2077\n",
            "           Threshold provided: 0.5                                            cluster_search.py:2084\n",
            "           No HLA/MHC allotypes types provided. Using all available HLA types cluster_search.py:2128\n",
            "           from the reference folder.                                                               \n",
            "           calculating compute_correlations.                                  cluster_search.py:2131\n",
            "           Found Gibbs matrices in                                             cluster_search.py:396\n",
            "           /content/HLA-PepClust/data/D90_HLA_3844874/matrices                                      \n",
            "           Output directory created                                            cluster_search.py:117\n",
            "           /content/test_results/demo_human_2/clust_result                                          \n",
            "           Processing for 6 clusters                                           cluster_search.py:501\n",
            "[07:19:26] Cluster Search Preprocess completed in 8.73 seconds.                cluster_search.py:579\n",
            "                     Search Results                     \n",
            "┏━━━━━━━━━━━━━━━━┳━━━━━━━━━━━━━━━━┳━━━━━━━━━━━━━━━━━━━━┓\n",
            "┃ Cluster        ┃ Best HLA Match ┃              Score ┃\n",
            "┡━━━━━━━━━━━━━━━━╇━━━━━━━━━━━━━━━━╇━━━━━━━━━━━━━━━━━━━━┩\n",
            "│ gibbs.1of6.mat │   HLA_A0101    │ 0.7904555591980144 │\n",
            "│ gibbs.2of6.mat │   HLA_C1502    │ 0.8478660704143336 │\n",
            "│ gibbs.3of6.mat │   HLA_B5101    │ 0.7646818143886117 │\n",
            "│ gibbs.4of6.mat │   HLA_A0203    │ 0.5500395940567546 │\n",
            "│ gibbs.5of6.mat │   HLA_C0304    │ 0.3974375734771451 │\n",
            "│ gibbs.6of6.mat │   HLA_B5101    │ 0.6333315112274469 │\n",
            "└────────────────┴────────────────┴────────────────────┘\n",
            "           Found 6 unique clusters and 121 unique HLA types                   cluster_search.py:1226\n",
            "[07:19:27] Correlation data saved as hla_correlation_data.json                cluster_search.py:1277\n",
            "[07:19:31] HTML layout saved in                                               cluster_search.py:2032\n",
            "           /content/test_results/demo_human_2/clust_result/clust-search-resul                       \n",
            "           t.html                                                                                   \n",
            "──────────────────── Stage 2/2: Finding best matching Naturally presented HLA . ────────────────────\n",
            "\n"
          ]
        }
      ]
    },
    {
      "cell_type": "markdown",
      "source": [
        "## Check results dir"
      ],
      "metadata": {
        "id": "4CVlQUYYL-zn"
      }
    },
    {
      "cell_type": "code",
      "source": [
        "!ls \"$output_folder/clust_result\""
      ],
      "metadata": {
        "colab": {
          "base_uri": "https://localhost:8080/"
        },
        "id": "bh9PrJYYIehk",
        "outputId": "928f6201-b5fa-4533-80cd-788d8c9cd990"
      },
      "execution_count": 13,
      "outputs": [
        {
          "output_type": "stream",
          "name": "stdout",
          "text": [
            "allotypes-img  clust-search-result.html  heatmap.png\t\t    immunolyser-out.html\n",
            "cluster-img    corr-data\t\t hla_correlation_data.json  immunolyser-out.js\n"
          ]
        }
      ]
    },
    {
      "cell_type": "markdown",
      "source": [
        "# Download zip file to check results"
      ],
      "metadata": {
        "id": "tW1mFptUOVb7"
      }
    },
    {
      "cell_type": "code",
      "source": [
        "!zip -r \"$output_folder/clust_result.zip\" \"$output_folder/clust_result\""
      ],
      "metadata": {
        "colab": {
          "base_uri": "https://localhost:8080/"
        },
        "id": "iMzqIEfqIxz7",
        "outputId": "db8395e8-4c2f-4c75-a2d2-8b85bba443fd"
      },
      "execution_count": 14,
      "outputs": [
        {
          "output_type": "stream",
          "name": "stdout",
          "text": [
            "  adding: content/test_results/demo_human_2/clust_result/ (stored 0%)\n",
            "  adding: content/test_results/demo_human_2/clust_result/corr-data/ (stored 0%)\n",
            "  adding: content/test_results/demo_human_2/clust_result/corr-data/amino_acids_comparison_with_correlation_1of6_HLA_A0101.json (deflated 84%)\n",
            "  adding: content/test_results/demo_human_2/clust_result/corr-data/amino_acids_comparison_with_correlation_5of6_HLA_C0304.png (deflated 45%)\n",
            "  adding: content/test_results/demo_human_2/clust_result/corr-data/amino_acids_comparison_with_correlation_3of6_HLA_B5101.json (deflated 83%)\n",
            "  adding: content/test_results/demo_human_2/clust_result/corr-data/amino_acids_comparison_with_correlation_2of6_HLA_C1502.png (deflated 43%)\n",
            "  adding: content/test_results/demo_human_2/clust_result/corr-data/amino_acids_comparison_with_correlation_6of6_HLA_B5101.json (deflated 83%)\n",
            "  adding: content/test_results/demo_human_2/clust_result/corr-data/amino_acids_comparison_with_correlation_1of6_HLA_A0101.png (deflated 45%)\n",
            "  adding: content/test_results/demo_human_2/clust_result/corr-data/amino_acids_comparison_with_correlation_5of6_HLA_C0304.json (deflated 83%)\n",
            "  adding: content/test_results/demo_human_2/clust_result/corr-data/correlation_heatmap.png (deflated 64%)\n",
            "  adding: content/test_results/demo_human_2/clust_result/corr-data/corr_matrix.csv (deflated 81%)\n",
            "  adding: content/test_results/demo_human_2/clust_result/corr-data/amino_acids_comparison_with_correlation_2of6_HLA_C1502.json (deflated 83%)\n",
            "  adding: content/test_results/demo_human_2/clust_result/corr-data/amino_acids_comparison_with_correlation_4of6_HLA_A0203.png (deflated 44%)\n",
            "  adding: content/test_results/demo_human_2/clust_result/corr-data/amino_acids_comparison_with_correlation_3of6_HLA_B5101.png (deflated 47%)\n",
            "  adding: content/test_results/demo_human_2/clust_result/corr-data/amino_acids_comparison_with_correlation_4of6_HLA_A0203.json (deflated 83%)\n",
            "  adding: content/test_results/demo_human_2/clust_result/corr-data/correlation_heatmap.json (deflated 91%)\n",
            "  adding: content/test_results/demo_human_2/clust_result/corr-data/amino_acids_comparison_with_correlation_6of6_HLA_B5101.png (deflated 43%)\n",
            "  adding: content/test_results/demo_human_2/clust_result/cluster-img/ (stored 0%)\n",
            "  adding: content/test_results/demo_human_2/clust_result/cluster-img/gibbs_logos_2of6-001.png (deflated 6%)\n",
            "  adding: content/test_results/demo_human_2/clust_result/cluster-img/gibbs_logos_5of6-001.png (deflated 3%)\n",
            "  adding: content/test_results/demo_human_2/clust_result/cluster-img/gibbs_logos_6of6-001.png (deflated 4%)\n",
            "  adding: content/test_results/demo_human_2/clust_result/cluster-img/gibbs_logos_1of6-001.png (deflated 6%)\n",
            "  adding: content/test_results/demo_human_2/clust_result/cluster-img/gibbs_logos_4of6-001.png (deflated 4%)\n",
            "  adding: content/test_results/demo_human_2/clust_result/cluster-img/gibbs_logos_3of6-001.png (deflated 5%)\n",
            "  adding: content/test_results/demo_human_2/clust_result/heatmap.png (deflated 21%)\n",
            "  adding: content/test_results/demo_human_2/clust_result/allotypes-img/ (stored 0%)\n",
            "  adding: content/test_results/demo_human_2/clust_result/allotypes-img/HLA_B5101.png (deflated 4%)\n",
            "  adding: content/test_results/demo_human_2/clust_result/allotypes-img/HLA_A0203.png (deflated 4%)\n",
            "  adding: content/test_results/demo_human_2/clust_result/allotypes-img/HLA_C0304.png (deflated 6%)\n",
            "  adding: content/test_results/demo_human_2/clust_result/allotypes-img/HLA_A0101.png (deflated 5%)\n",
            "  adding: content/test_results/demo_human_2/clust_result/allotypes-img/HLA_C1502.png (deflated 4%)\n",
            "  adding: content/test_results/demo_human_2/clust_result/immunolyser-out.html (deflated 97%)\n",
            "  adding: content/test_results/demo_human_2/clust_result/clust-search-result.html (deflated 94%)\n",
            "  adding: content/test_results/demo_human_2/clust_result/hla_correlation_data.json (deflated 93%)\n",
            "  adding: content/test_results/demo_human_2/clust_result/immunolyser-out.js (deflated 81%)\n"
          ]
        }
      ]
    },
    {
      "cell_type": "code",
      "source": [
        "!pwd"
      ],
      "metadata": {
        "colab": {
          "base_uri": "https://localhost:8080/"
        },
        "id": "6EOU2rHyLxlS",
        "outputId": "09d72d99-95dd-49be-d59f-ac602488e66d"
      },
      "execution_count": 15,
      "outputs": [
        {
          "output_type": "stream",
          "name": "stdout",
          "text": [
            "/content/HLA-PepClust\n"
          ]
        }
      ]
    },
    {
      "cell_type": "code",
      "source": [],
      "metadata": {
        "id": "ZkHOSgo3M93X"
      },
      "execution_count": null,
      "outputs": []
    }
  ]
}